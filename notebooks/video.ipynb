{
 "cells": [
  {
   "cell_type": "code",
   "execution_count": null,
   "metadata": {},
   "outputs": [],
   "source": [
    "import mediapy as media\n",
    "import glob\n",
    "import numpy as np\n",
    "\n",
    "max_depth = 2.0\n",
    "min_views = 1\n",
    "\n",
    "# dataset = \"car\"\n",
    "# method0 = \"nerfacto\"\n",
    "# method1 = \"nerfacto-frustum-cube\"\n",
    "# path0 = f\"/shared/ethanweber/magic-eraser/nerf-renders/{dataset}/{dataset}---{method0}\"\n",
    "# path1 = f\"/shared/ethanweber/magic-eraser/nerf-renders/{dataset}/{dataset}---{method1}\"\n",
    "\n",
    "path0 = \"/home/ethanweber/nerfstudio/projects/cleanerf/renders-improvement/car-nerfacto\"\n",
    "path1 = \"/home/ethanweber/nerfstudio/projects/cleanerf/renders-improvement/car-cleanerf\"\n",
    "\n",
    "filenames0 = sorted(glob.glob(f\"{path0}/rgb/*\"))\n",
    "filenames1 = sorted(glob.glob(f\"{path1}/rgb/*\"))\n",
    "\n",
    "im0s = []\n",
    "for idx, (f0, f1) in enumerate(zip(filenames0, filenames1)):\n",
    "    rgb0 = media.read_image(f0)\n",
    "    depth_raw0 = np.load(f0.replace(\"rgb\", \"depth_raw\").replace(\".png\", \".npy\")).repeat(3, axis=-1)\n",
    "    visibility = media.read_image(f0.replace(\"rgb\", \"visibility_median_count\"))\n",
    "    rgb0[depth_raw0 > max_depth] = 0\n",
    "    rgb0[visibility < min_views] = 0\n",
    "    im0s.append(rgb0)"
   ]
  },
  {
   "cell_type": "code",
   "execution_count": null,
   "metadata": {},
   "outputs": [],
   "source": [
    "media.write_video(\"video0.mp4\", im0s, fps=24)"
   ]
  },
  {
   "cell_type": "code",
   "execution_count": null,
   "metadata": {},
   "outputs": [],
   "source": []
  }
 ],
 "metadata": {
  "kernelspec": {
   "display_name": "nerfstudio",
   "language": "python",
   "name": "python3"
  },
  "language_info": {
   "codemirror_mode": {
    "name": "ipython",
    "version": 3
   },
   "file_extension": ".py",
   "mimetype": "text/x-python",
   "name": "python",
   "nbconvert_exporter": "python",
   "pygments_lexer": "ipython3",
   "version": "3.8.16"
  },
  "orig_nbformat": 4
 },
 "nbformat": 4,
 "nbformat_minor": 2
}
